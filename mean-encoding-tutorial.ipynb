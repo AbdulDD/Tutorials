{
 "cells": [
  {
   "cell_type": "markdown",
   "id": "c704a942",
   "metadata": {
    "papermill": {
     "duration": 0.012042,
     "end_time": "2022-02-17T06:50:58.006070",
     "exception": false,
     "start_time": "2022-02-17T06:50:57.994028",
     "status": "completed"
    },
    "tags": []
   },
   "source": [
    "# Mean Encoding Tutorial\n",
    "1. In this tutorial we are going to Mean encode \"Embarked\" column. Using four different encoding schemes.\n",
    "    * K-Fold Validation\n",
    "    * Leave one out \n",
    "    * Smoothing\n",
    "    * Expanding mean\n",
    "2. Then we are going to find corelation in between every encoding scheme and target."
   ]
  },
  {
   "cell_type": "markdown",
   "id": "43001f2d",
   "metadata": {
    "papermill": {
     "duration": 0.010788,
     "end_time": "2022-02-17T06:50:58.030198",
     "exception": false,
     "start_time": "2022-02-17T06:50:58.019410",
     "status": "completed"
    },
    "tags": []
   },
   "source": [
    "# Introduction\n",
    "Mean Encoding "
   ]
  },
  {
   "cell_type": "markdown",
   "id": "5df2471e",
   "metadata": {
    "papermill": {
     "duration": 0.010812,
     "end_time": "2022-02-17T06:50:58.052887",
     "exception": false,
     "start_time": "2022-02-17T06:50:58.042075",
     "status": "completed"
    },
    "tags": []
   },
   "source": [
    "# Implementation\n"
   ]
  },
  {
   "cell_type": "code",
   "execution_count": 1,
   "id": "703e6e27",
   "metadata": {
    "execution": {
     "iopub.execute_input": "2022-02-17T06:50:58.084737Z",
     "iopub.status.busy": "2022-02-17T06:50:58.084121Z",
     "iopub.status.idle": "2022-02-17T06:51:03.657293Z",
     "shell.execute_reply": "2022-02-17T06:51:03.658183Z",
     "shell.execute_reply.started": "2022-02-17T06:33:48.128438Z"
    },
    "papermill": {
     "duration": 5.594771,
     "end_time": "2022-02-17T06:51:03.658564",
     "exception": false,
     "start_time": "2022-02-17T06:50:58.063793",
     "status": "completed"
    },
    "tags": []
   },
   "outputs": [
    {
     "name": "stderr",
     "output_type": "stream",
     "text": [
      "/opt/conda/lib/python3.7/site-packages/IPython/core/interactiveshell.py:3457: DtypeWarning: Columns (1,2,3,7,8,9,11,12,13,14,17,18,19) have mixed types.Specify dtype option on import or set low_memory=False.\n",
      "  exec(code_obj, self.user_global_ns, self.user_ns)\n"
     ]
    }
   ],
   "source": [
    "# Importing libraries\n",
    "import pandas as pd\n",
    "import numpy as np\n",
    "from sklearn.model_selection import KFold\n",
    "\n",
    "# Reading Dataset\n",
    "Train_Data = pd.read_csv(\"../input/pak-ec-dataset/Pakistan Largest Ecommerce Dataset.csv\")"
   ]
  },
  {
   "cell_type": "code",
   "execution_count": 2,
   "id": "b984e3a6",
   "metadata": {
    "execution": {
     "iopub.execute_input": "2022-02-17T06:51:03.692830Z",
     "iopub.status.busy": "2022-02-17T06:51:03.692164Z",
     "iopub.status.idle": "2022-02-17T06:51:05.390534Z",
     "shell.execute_reply": "2022-02-17T06:51:05.391021Z",
     "shell.execute_reply.started": "2022-02-17T06:47:49.125002Z"
    },
    "papermill": {
     "duration": 1.719481,
     "end_time": "2022-02-17T06:51:05.391204",
     "exception": false,
     "start_time": "2022-02-17T06:51:03.671723",
     "status": "completed"
    },
    "tags": []
   },
   "outputs": [
    {
     "data": {
      "text/plain": [
       "array(['complete', 'canceled', 'order_refunded', 'received', 'refund',\n",
       "       'closed', 'fraud', 'holded', 'exchange', 'pending_paypal', 'paid',\n",
       "       '\\\\N', 'cod', 'pending', nan, 'processing', 'payment_review'],\n",
       "      dtype=object)"
      ]
     },
     "execution_count": 2,
     "metadata": {},
     "output_type": "execute_result"
    }
   ],
   "source": [
    "# About Dataset\n",
    "\n",
    "Train_Data.shape\n",
    "#Train_Data.info()\n",
    "Train_Data.nunique()\n",
    "Train_Data[\"status\"].unique()\n",
    "\n",
    "#Train_Data.head()\n",
    "#Train_Data.tail(15"
   ]
  },
  {
   "cell_type": "code",
   "execution_count": 3,
   "id": "5df601a4",
   "metadata": {
    "execution": {
     "iopub.execute_input": "2022-02-17T06:51:05.748667Z",
     "iopub.status.busy": "2022-02-17T06:51:05.543925Z",
     "iopub.status.idle": "2022-02-17T06:51:05.750800Z",
     "shell.execute_reply": "2022-02-17T06:51:05.751287Z",
     "shell.execute_reply.started": "2022-02-17T06:34:00.187023Z"
    },
    "papermill": {
     "duration": 0.348574,
     "end_time": "2022-02-17T06:51:05.751477",
     "exception": false,
     "start_time": "2022-02-17T06:51:05.402903",
     "status": "completed"
    },
    "tags": []
   },
   "outputs": [],
   "source": [
    "Train_Data.drop(Train_Data.iloc[:, 9:26], axis=1, inplace=True)"
   ]
  },
  {
   "cell_type": "code",
   "execution_count": 4,
   "id": "b001a6f0",
   "metadata": {
    "execution": {
     "iopub.execute_input": "2022-02-17T06:51:05.781789Z",
     "iopub.status.busy": "2022-02-17T06:51:05.780771Z",
     "iopub.status.idle": "2022-02-17T06:51:05.785142Z",
     "shell.execute_reply": "2022-02-17T06:51:05.784573Z",
     "shell.execute_reply.started": "2022-02-17T06:34:21.687488Z"
    },
    "papermill": {
     "duration": 0.021774,
     "end_time": "2022-02-17T06:51:05.785305",
     "exception": false,
     "start_time": "2022-02-17T06:51:05.763531",
     "status": "completed"
    },
    "tags": []
   },
   "outputs": [
    {
     "data": {
      "text/plain": [
       "(1048575, 9)"
      ]
     },
     "execution_count": 4,
     "metadata": {},
     "output_type": "execute_result"
    }
   ],
   "source": [
    "Train_Data.head()\n",
    "Train_Data.shape"
   ]
  },
  {
   "cell_type": "markdown",
   "id": "a17aa62d",
   "metadata": {
    "papermill": {
     "duration": 0.011889,
     "end_time": "2022-02-17T06:51:05.809619",
     "exception": false,
     "start_time": "2022-02-17T06:51:05.797730",
     "status": "completed"
    },
    "tags": []
   },
   "source": [
    "# Mean Encoding with K-Fold Validation\n",
    "***Steps***\n",
    "1. **Import K-Fold with K=5 and shuffle = False**\n",
    "2. **Split Train data in to Tr_d and Val_d**\n",
    "3. **Iterate through K folds (If K=x This iteration will repeat x times)**\n",
    "    * Train and Validation -(Assign)- train and validation index\n",
    "    * Find Target mean for Train Folds groupedby(Categorical feature under operation)\n",
    "    * New Feature in Validation Fold -(Assign)- Validation fold (Categorical feature under operation) .map(Target mean of Train folds)\n",
    "    * Dataset(Index val) -(Assign)- Validation fold\n",
    "4. **Fill null values with global mean in new feature of Dataset**"
   ]
  },
  {
   "cell_type": "code",
   "execution_count": null,
   "id": "91d4a39b",
   "metadata": {
    "papermill": {
     "duration": 0.012026,
     "end_time": "2022-02-17T06:51:05.833948",
     "exception": false,
     "start_time": "2022-02-17T06:51:05.821922",
     "status": "completed"
    },
    "tags": []
   },
   "outputs": [],
   "source": []
  },
  {
   "cell_type": "code",
   "execution_count": null,
   "id": "bdb57073",
   "metadata": {
    "papermill": {
     "duration": 0.012178,
     "end_time": "2022-02-17T06:51:05.858345",
     "exception": false,
     "start_time": "2022-02-17T06:51:05.846167",
     "status": "completed"
    },
    "tags": []
   },
   "outputs": [],
   "source": []
  },
  {
   "cell_type": "code",
   "execution_count": null,
   "id": "551c6f55",
   "metadata": {
    "papermill": {
     "duration": 0.01221,
     "end_time": "2022-02-17T06:51:05.883480",
     "exception": false,
     "start_time": "2022-02-17T06:51:05.871270",
     "status": "completed"
    },
    "tags": []
   },
   "outputs": [],
   "source": []
  },
  {
   "cell_type": "code",
   "execution_count": null,
   "id": "fc03b9b1",
   "metadata": {
    "papermill": {
     "duration": 0.012386,
     "end_time": "2022-02-17T06:51:05.908349",
     "exception": false,
     "start_time": "2022-02-17T06:51:05.895963",
     "status": "completed"
    },
    "tags": []
   },
   "outputs": [],
   "source": []
  }
 ],
 "metadata": {
  "kernelspec": {
   "display_name": "Python 3",
   "language": "python",
   "name": "python3"
  },
  "language_info": {
   "codemirror_mode": {
    "name": "ipython",
    "version": 3
   },
   "file_extension": ".py",
   "mimetype": "text/x-python",
   "name": "python",
   "nbconvert_exporter": "python",
   "pygments_lexer": "ipython3",
   "version": "3.7.12"
  },
  "papermill": {
   "default_parameters": {},
   "duration": 18.553209,
   "end_time": "2022-02-17T06:51:06.731352",
   "environment_variables": {},
   "exception": null,
   "input_path": "__notebook__.ipynb",
   "output_path": "__notebook__.ipynb",
   "parameters": {},
   "start_time": "2022-02-17T06:50:48.178143",
   "version": "2.3.3"
  }
 },
 "nbformat": 4,
 "nbformat_minor": 5
}
