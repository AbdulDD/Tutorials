{
 "cells": [
  {
   "cell_type": "markdown",
   "id": "8c267275",
   "metadata": {
    "papermill": {
     "duration": 0.006214,
     "end_time": "2022-02-12T08:05:01.204538",
     "exception": false,
     "start_time": "2022-02-12T08:05:01.198324",
     "status": "completed"
    },
    "tags": []
   },
   "source": [
    "# Mean Encoding Tutorial\n",
    "1. In this tutorial we are going to Mean encode \"Embarked\" column. Using four different encoding schemes.\n",
    "    * K-Fold Validation\n",
    "    * Leave one out \n",
    "    * Smoothing\n",
    "    * Expanding mean\n",
    "2. Then we are going to find corelation in between every encoding scheme and target."
   ]
  },
  {
   "cell_type": "markdown",
   "id": "8f916489",
   "metadata": {
    "papermill": {
     "duration": 0.004868,
     "end_time": "2022-02-12T08:05:01.214997",
     "exception": false,
     "start_time": "2022-02-12T08:05:01.210129",
     "status": "completed"
    },
    "tags": []
   },
   "source": [
    "# Introduction\n",
    "Mean Encoding "
   ]
  },
  {
   "cell_type": "markdown",
   "id": "ba8c8989",
   "metadata": {
    "papermill": {
     "duration": 0.005477,
     "end_time": "2022-02-12T08:05:01.225468",
     "exception": false,
     "start_time": "2022-02-12T08:05:01.219991",
     "status": "completed"
    },
    "tags": []
   },
   "source": [
    "# Implementation\n"
   ]
  },
  {
   "cell_type": "code",
   "execution_count": 1,
   "id": "8c62ec0b",
   "metadata": {
    "execution": {
     "iopub.execute_input": "2022-02-12T08:05:01.239585Z",
     "iopub.status.busy": "2022-02-12T08:05:01.238542Z",
     "iopub.status.idle": "2022-02-12T08:05:01.267227Z",
     "shell.execute_reply": "2022-02-12T08:05:01.267728Z",
     "shell.execute_reply.started": "2022-02-12T07:35:16.552045Z"
    },
    "papermill": {
     "duration": 0.037345,
     "end_time": "2022-02-12T08:05:01.267997",
     "exception": false,
     "start_time": "2022-02-12T08:05:01.230652",
     "status": "completed"
    },
    "tags": []
   },
   "outputs": [],
   "source": [
    "# Importing libraries\n",
    "import pandas as pd\n",
    "import numpy as np\n",
    "\n",
    "# Reading Dataset\n",
    "Train_Data = pd.read_csv(\"../input/titanic/train.csv\")"
   ]
  },
  {
   "cell_type": "code",
   "execution_count": 2,
   "id": "5c06ba3c",
   "metadata": {
    "execution": {
     "iopub.execute_input": "2022-02-12T08:05:01.281183Z",
     "iopub.status.busy": "2022-02-12T08:05:01.280617Z",
     "iopub.status.idle": "2022-02-12T08:05:01.298977Z",
     "shell.execute_reply": "2022-02-12T08:05:01.299473Z",
     "shell.execute_reply.started": "2022-02-12T07:40:31.245298Z"
    },
    "papermill": {
     "duration": 0.026453,
     "end_time": "2022-02-12T08:05:01.299637",
     "exception": false,
     "start_time": "2022-02-12T08:05:01.273184",
     "status": "completed"
    },
    "tags": []
   },
   "outputs": [
    {
     "data": {
      "text/plain": [
       "PassengerId    891\n",
       "Survived         2\n",
       "Pclass           3\n",
       "Name           891\n",
       "Sex              2\n",
       "Age             88\n",
       "SibSp            7\n",
       "Parch            7\n",
       "Ticket         681\n",
       "Fare           248\n",
       "Cabin          147\n",
       "Embarked         3\n",
       "dtype: int64"
      ]
     },
     "execution_count": 2,
     "metadata": {},
     "output_type": "execute_result"
    }
   ],
   "source": [
    "# About Dataset\n",
    "#Train_Data.head(15)\n",
    "#Train_Data.tail(15)\n",
    "\n",
    "#Train_Data.shape\n",
    "#Train_Data.info()\n",
    "Train_Data.nunique()"
   ]
  },
  {
   "cell_type": "markdown",
   "id": "63e0d27c",
   "metadata": {
    "papermill": {
     "duration": 0.005065,
     "end_time": "2022-02-12T08:05:01.310474",
     "exception": false,
     "start_time": "2022-02-12T08:05:01.305409",
     "status": "completed"
    },
    "tags": []
   },
   "source": [
    "# Mean Encoding with K-Fold Validation\n",
    "***Steps***\n",
    "1. Import K-Fold "
   ]
  },
  {
   "cell_type": "code",
   "execution_count": null,
   "id": "f1a73972",
   "metadata": {
    "papermill": {
     "duration": 0.005081,
     "end_time": "2022-02-12T08:05:01.320893",
     "exception": false,
     "start_time": "2022-02-12T08:05:01.315812",
     "status": "completed"
    },
    "tags": []
   },
   "outputs": [],
   "source": []
  }
 ],
 "metadata": {
  "kernelspec": {
   "display_name": "Python 3",
   "language": "python",
   "name": "python3"
  },
  "language_info": {
   "codemirror_mode": {
    "name": "ipython",
    "version": 3
   },
   "file_extension": ".py",
   "mimetype": "text/x-python",
   "name": "python",
   "nbconvert_exporter": "python",
   "pygments_lexer": "ipython3",
   "version": "3.7.12"
  },
  "papermill": {
   "default_parameters": {},
   "duration": 9.756921,
   "end_time": "2022-02-12T08:05:01.936022",
   "environment_variables": {},
   "exception": null,
   "input_path": "__notebook__.ipynb",
   "output_path": "__notebook__.ipynb",
   "parameters": {},
   "start_time": "2022-02-12T08:04:52.179101",
   "version": "2.3.3"
  }
 },
 "nbformat": 4,
 "nbformat_minor": 5
}
