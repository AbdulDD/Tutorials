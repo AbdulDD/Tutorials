{
 "cells": [
  {
   "cell_type": "markdown",
   "id": "4085795b",
   "metadata": {
    "papermill": {
     "duration": 0.014063,
     "end_time": "2022-02-17T18:31:10.305017",
     "exception": false,
     "start_time": "2022-02-17T18:31:10.290954",
     "status": "completed"
    },
    "tags": []
   },
   "source": [
    "# 1. Introduction\n",
    "Mean Encoding\n",
    "1. In this tutorial we are going to Mean encode \"Embarked\" column. Using four different encoding schemes.\n",
    "    * K-Fold Validation\n",
    "    * Leave one out \n",
    "    * Smoothing\n",
    "    * Expanding mean\n",
    "2. Then we are going to find corelation in between every encoding scheme and target."
   ]
  },
  {
   "cell_type": "markdown",
   "id": "d8621489",
   "metadata": {
    "papermill": {
     "duration": 0.011368,
     "end_time": "2022-02-17T18:31:10.330896",
     "exception": false,
     "start_time": "2022-02-17T18:31:10.319528",
     "status": "completed"
    },
    "tags": []
   },
   "source": [
    "<p><b><center><span style=\"font-size:26px;\" </span> <span style=\"font-family=Times new roman;\"</span> Understanding different Mean Encodings schemes & Implementing them in Python</center></b></p>\n",
    "\n",
    "<p><center><span style=\"font-size:16px;\"</span> By Abdul Muqtadir()</center></p>\n"
   ]
  },
  {
   "cell_type": "code",
   "execution_count": 1,
   "id": "98ec7386",
   "metadata": {
    "execution": {
     "iopub.execute_input": "2022-02-17T18:31:10.366245Z",
     "iopub.status.busy": "2022-02-17T18:31:10.365530Z",
     "iopub.status.idle": "2022-02-17T18:31:11.587643Z",
     "shell.execute_reply": "2022-02-17T18:31:11.588587Z",
     "shell.execute_reply.started": "2022-02-17T17:56:00.663845Z"
    },
    "papermill": {
     "duration": 1.246595,
     "end_time": "2022-02-17T18:31:11.588994",
     "exception": false,
     "start_time": "2022-02-17T18:31:10.342399",
     "status": "completed"
    },
    "tags": []
   },
   "outputs": [],
   "source": [
    "# Importing libraries\n",
    "import pandas as pd\n",
    "import numpy as np\n",
    "from sklearn.model_selection import KFold\n",
    "\n",
    "# Reading Dataset\n",
    "Train_Data = pd.read_csv(\"../input/simple-dataset-for-easy-practice-for-beginners/BrandEDA.csv\")"
   ]
  },
  {
   "cell_type": "code",
   "execution_count": 2,
   "id": "81a89abb",
   "metadata": {
    "execution": {
     "iopub.execute_input": "2022-02-17T18:31:11.621512Z",
     "iopub.status.busy": "2022-02-17T18:31:11.620674Z",
     "iopub.status.idle": "2022-02-17T18:31:11.639123Z",
     "shell.execute_reply": "2022-02-17T18:31:11.639833Z",
     "shell.execute_reply.started": "2022-02-17T17:56:16.875163Z"
    },
    "papermill": {
     "duration": 0.038174,
     "end_time": "2022-02-17T18:31:11.640024",
     "exception": false,
     "start_time": "2022-02-17T18:31:11.601850",
     "status": "completed"
    },
    "tags": []
   },
   "outputs": [
    {
     "data": {
      "text/plain": [
       "Brand                    object\n",
       "Item ID                   int64\n",
       "Ram(Gb)                 float64\n",
       "StoraGe(Gb)             float64\n",
       "Price(Rs)                 int64\n",
       "Processor speed(GHz)    float64\n",
       " Touch                   object\n",
       "Color                    object\n",
       "Weight                  float64\n",
       "DisplAy size(Inch)      float64\n",
       "dtype: object"
      ]
     },
     "execution_count": 2,
     "metadata": {},
     "output_type": "execute_result"
    }
   ],
   "source": [
    "# About Dataset\n",
    "\n",
    "Train_Data.shape\n",
    "#Train_Data.info()\n",
    "Train_Data.nunique()\n",
    "\n",
    "#Train_Data[\"status\"].unique()\n",
    "#Train_Data[\"qty_ordered\"].isnull().sum()\n",
    "\n",
    "Train_Data.head()\n",
    "#Train_Data.tail(15\n",
    "Train_Data.dtypes"
   ]
  },
  {
   "cell_type": "code",
   "execution_count": 3,
   "id": "33a0f787",
   "metadata": {
    "execution": {
     "iopub.execute_input": "2022-02-17T18:31:11.668067Z",
     "iopub.status.busy": "2022-02-17T18:31:11.667248Z",
     "iopub.status.idle": "2022-02-17T18:31:11.674494Z",
     "shell.execute_reply": "2022-02-17T18:31:11.675039Z",
     "shell.execute_reply.started": "2022-02-17T11:42:23.407178Z"
    },
    "papermill": {
     "duration": 0.022857,
     "end_time": "2022-02-17T18:31:11.675244",
     "exception": false,
     "start_time": "2022-02-17T18:31:11.652387",
     "status": "completed"
    },
    "tags": []
   },
   "outputs": [],
   "source": [
    "#Drop multiple columns (Just to make dataset bit easier for demonstration)\n",
    "Train_Data.drop(Train_Data.iloc[:, 14:26], axis=1, inplace=True)"
   ]
  },
  {
   "cell_type": "code",
   "execution_count": 4,
   "id": "65888f7c",
   "metadata": {
    "execution": {
     "iopub.execute_input": "2022-02-17T18:31:11.706967Z",
     "iopub.status.busy": "2022-02-17T18:31:11.706100Z",
     "iopub.status.idle": "2022-02-17T18:31:11.710466Z",
     "shell.execute_reply": "2022-02-17T18:31:11.709949Z",
     "shell.execute_reply.started": "2022-02-17T11:42:24.432969Z"
    },
    "papermill": {
     "duration": 0.02339,
     "end_time": "2022-02-17T18:31:11.710612",
     "exception": false,
     "start_time": "2022-02-17T18:31:11.687222",
     "status": "completed"
    },
    "tags": []
   },
   "outputs": [
    {
     "data": {
      "text/plain": [
       "Brand                    object\n",
       "Item ID                   int64\n",
       "Ram(Gb)                 float64\n",
       "StoraGe(Gb)             float64\n",
       "Price(Rs)                 int64\n",
       "Processor speed(GHz)    float64\n",
       " Touch                   object\n",
       "Color                    object\n",
       "Weight                  float64\n",
       "DisplAy size(Inch)      float64\n",
       "dtype: object"
      ]
     },
     "execution_count": 4,
     "metadata": {},
     "output_type": "execute_result"
    }
   ],
   "source": [
    "#Train_Data.sort_values(['qty_ordered','status'],inplace=True)\n",
    "Train_Data.dtypes"
   ]
  },
  {
   "cell_type": "code",
   "execution_count": null,
   "id": "4fcdfc7f",
   "metadata": {
    "execution": {
     "iopub.execute_input": "2022-02-17T11:42:24.601464Z",
     "iopub.status.busy": "2022-02-17T11:42:24.600925Z",
     "iopub.status.idle": "2022-02-17T11:42:24.615453Z",
     "shell.execute_reply": "2022-02-17T11:42:24.614668Z",
     "shell.execute_reply.started": "2022-02-17T11:42:24.601417Z"
    },
    "papermill": {
     "duration": 0.011967,
     "end_time": "2022-02-17T18:31:11.734897",
     "exception": false,
     "start_time": "2022-02-17T18:31:11.722930",
     "status": "completed"
    },
    "tags": []
   },
   "outputs": [],
   "source": []
  },
  {
   "cell_type": "markdown",
   "id": "7bea3194",
   "metadata": {
    "papermill": {
     "duration": 0.012889,
     "end_time": "2022-02-17T18:31:11.760947",
     "exception": false,
     "start_time": "2022-02-17T18:31:11.748058",
     "status": "completed"
    },
    "tags": []
   },
   "source": [
    "# Mean Encoding with K-Fold Validation\n",
    "***Steps***\n",
    "1. **Import K-Fold with K=5 and shuffle = False**\n",
    "2. **Split Train data in to Tr_d and Val_d**\n",
    "3. **Iterate through K folds (If K=x This iteration will repeat x times)**\n",
    "    * Train and Validation -(Assign)- train and validation index\n",
    "    * Find Target mean for Train Folds groupedby(Categorical feature under operation)\n",
    "    * New Feature in Validation Fold -(Assign)- Validation fold (Categorical feature under operation) .map(Target mean of Train folds)\n",
    "    * Dataset(Index val) -(Assign)- Validation fold\n",
    "4. **Fill null values with global mean in new feature of Dataset**"
   ]
  },
  {
   "cell_type": "code",
   "execution_count": null,
   "id": "10f96bae",
   "metadata": {
    "execution": {
     "iopub.execute_input": "2022-02-17T11:42:24.665267Z",
     "iopub.status.busy": "2022-02-17T11:42:24.664687Z",
     "iopub.status.idle": "2022-02-17T11:42:24.758937Z",
     "shell.execute_reply": "2022-02-17T11:42:24.757697Z",
     "shell.execute_reply.started": "2022-02-17T11:42:24.665216Z"
    },
    "papermill": {
     "duration": 0.012603,
     "end_time": "2022-02-17T18:31:11.785979",
     "exception": false,
     "start_time": "2022-02-17T18:31:11.773376",
     "status": "completed"
    },
    "tags": []
   },
   "outputs": [],
   "source": []
  },
  {
   "cell_type": "raw",
   "id": "d686c48d",
   "metadata": {
    "papermill": {
     "duration": 0.012055,
     "end_time": "2022-02-17T18:31:11.810320",
     "exception": false,
     "start_time": "2022-02-17T18:31:11.798265",
     "status": "completed"
    },
    "tags": []
   },
   "source": []
  },
  {
   "cell_type": "code",
   "execution_count": 5,
   "id": "dcec61b3",
   "metadata": {
    "execution": {
     "iopub.execute_input": "2022-02-17T18:31:11.841818Z",
     "iopub.status.busy": "2022-02-17T18:31:11.841108Z",
     "iopub.status.idle": "2022-02-17T18:31:11.862616Z",
     "shell.execute_reply": "2022-02-17T18:31:11.861867Z",
     "shell.execute_reply.started": "2022-02-17T11:42:24.760963Z"
    },
    "papermill": {
     "duration": 0.04015,
     "end_time": "2022-02-17T18:31:11.862784",
     "exception": false,
     "start_time": "2022-02-17T18:31:11.822634",
     "status": "completed"
    },
    "tags": []
   },
   "outputs": [
    {
     "data": {
      "text/html": [
       "<div>\n",
       "<style scoped>\n",
       "    .dataframe tbody tr th:only-of-type {\n",
       "        vertical-align: middle;\n",
       "    }\n",
       "\n",
       "    .dataframe tbody tr th {\n",
       "        vertical-align: top;\n",
       "    }\n",
       "\n",
       "    .dataframe thead th {\n",
       "        text-align: right;\n",
       "    }\n",
       "</style>\n",
       "<table border=\"1\" class=\"dataframe\">\n",
       "  <thead>\n",
       "    <tr style=\"text-align: right;\">\n",
       "      <th></th>\n",
       "      <th>Brand</th>\n",
       "      <th>Item ID</th>\n",
       "      <th>Ram(Gb)</th>\n",
       "      <th>StoraGe(Gb)</th>\n",
       "      <th>Price(Rs)</th>\n",
       "      <th>Processor speed(GHz)</th>\n",
       "      <th>Touch</th>\n",
       "      <th>Color</th>\n",
       "      <th>Weight</th>\n",
       "      <th>DisplAy size(Inch)</th>\n",
       "    </tr>\n",
       "  </thead>\n",
       "  <tbody>\n",
       "    <tr>\n",
       "      <th>0</th>\n",
       "      <td>Apple</td>\n",
       "      <td>32</td>\n",
       "      <td>16.0</td>\n",
       "      <td>256.0</td>\n",
       "      <td>315000</td>\n",
       "      <td>2.2</td>\n",
       "      <td>No</td>\n",
       "      <td>Space grey</td>\n",
       "      <td>1.83</td>\n",
       "      <td>15.4</td>\n",
       "    </tr>\n",
       "    <tr>\n",
       "      <th>1</th>\n",
       "      <td>Apple</td>\n",
       "      <td>4</td>\n",
       "      <td>8.0</td>\n",
       "      <td>512.0</td>\n",
       "      <td>232000</td>\n",
       "      <td>3.2</td>\n",
       "      <td>No</td>\n",
       "      <td>Dark Black</td>\n",
       "      <td>1.29</td>\n",
       "      <td>13.3</td>\n",
       "    </tr>\n",
       "    <tr>\n",
       "      <th>2</th>\n",
       "      <td>Apple</td>\n",
       "      <td>32</td>\n",
       "      <td>16.0</td>\n",
       "      <td>1024.0</td>\n",
       "      <td>382000</td>\n",
       "      <td>2.3</td>\n",
       "      <td>No</td>\n",
       "      <td>Silver</td>\n",
       "      <td>2.00</td>\n",
       "      <td>16.0</td>\n",
       "    </tr>\n",
       "    <tr>\n",
       "      <th>3</th>\n",
       "      <td>Apple</td>\n",
       "      <td>4</td>\n",
       "      <td>8.0</td>\n",
       "      <td>NaN</td>\n",
       "      <td>195000</td>\n",
       "      <td>2.3</td>\n",
       "      <td>No</td>\n",
       "      <td>Space grey</td>\n",
       "      <td>1.37</td>\n",
       "      <td>13.3</td>\n",
       "    </tr>\n",
       "    <tr>\n",
       "      <th>4</th>\n",
       "      <td>Apple</td>\n",
       "      <td>4</td>\n",
       "      <td>4.0</td>\n",
       "      <td>128.0</td>\n",
       "      <td>92400</td>\n",
       "      <td>1.8</td>\n",
       "      <td>No</td>\n",
       "      <td>Silver</td>\n",
       "      <td>1.35</td>\n",
       "      <td>11.6</td>\n",
       "    </tr>\n",
       "  </tbody>\n",
       "</table>\n",
       "</div>"
      ],
      "text/plain": [
       "   Brand  Item ID  Ram(Gb)  StoraGe(Gb)  Price(Rs)  Processor speed(GHz)  \\\n",
       "0  Apple       32     16.0        256.0     315000                   2.2   \n",
       "1  Apple        4      8.0        512.0     232000                   3.2   \n",
       "2  Apple       32     16.0       1024.0     382000                   2.3   \n",
       "3  Apple        4      8.0          NaN     195000                   2.3   \n",
       "4  Apple        4      4.0        128.0      92400                   1.8   \n",
       "\n",
       "   Touch       Color   Weight  DisplAy size(Inch)  \n",
       "0      No  Space grey    1.83                15.4  \n",
       "1      No  Dark Black    1.29                13.3  \n",
       "2      No      Silver    2.00                16.0  \n",
       "3      No  Space grey    1.37                13.3  \n",
       "4      No      Silver    1.35                11.6  "
      ]
     },
     "execution_count": 5,
     "metadata": {},
     "output_type": "execute_result"
    }
   ],
   "source": [
    "Train_Data.head()"
   ]
  },
  {
   "cell_type": "code",
   "execution_count": null,
   "id": "d9de48cf",
   "metadata": {
    "papermill": {
     "duration": 0.013357,
     "end_time": "2022-02-17T18:31:11.889978",
     "exception": false,
     "start_time": "2022-02-17T18:31:11.876621",
     "status": "completed"
    },
    "tags": []
   },
   "outputs": [],
   "source": []
  }
 ],
 "metadata": {
  "kernelspec": {
   "display_name": "Python 3",
   "language": "python",
   "name": "python3"
  },
  "language_info": {
   "codemirror_mode": {
    "name": "ipython",
    "version": 3
   },
   "file_extension": ".py",
   "mimetype": "text/x-python",
   "name": "python",
   "nbconvert_exporter": "python",
   "pygments_lexer": "ipython3",
   "version": "3.7.12"
  },
  "papermill": {
   "default_parameters": {},
   "duration": 13.585864,
   "end_time": "2022-02-17T18:31:12.615140",
   "environment_variables": {},
   "exception": null,
   "input_path": "__notebook__.ipynb",
   "output_path": "__notebook__.ipynb",
   "parameters": {},
   "start_time": "2022-02-17T18:30:59.029276",
   "version": "2.3.3"
  }
 },
 "nbformat": 4,
 "nbformat_minor": 5
}
