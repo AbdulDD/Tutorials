{
 "cells": [
  {
   "cell_type": "markdown",
   "id": "a6b4f96c",
   "metadata": {
    "papermill": {
     "duration": 0.013,
     "end_time": "2022-02-18T06:46:35.443179",
     "exception": false,
     "start_time": "2022-02-18T06:46:35.430179",
     "status": "completed"
    },
    "tags": []
   },
   "source": [
    "<p><b><center><span style=\"font-size:26px;\" </span> <span style=\"font-family=Times new roman;\"</span> Understanding different Mean Encodings schemes & Implementing them in Python</center></b></p>\n",
    "\n",
    "<p><center><span style=\"font-size:16px;\"</span> By Abdul Muqtadir()</center></p>\n"
   ]
  },
  {
   "cell_type": "markdown",
   "id": "440df473",
   "metadata": {
    "papermill": {
     "duration": 0.011214,
     "end_time": "2022-02-18T06:46:35.467730",
     "exception": false,
     "start_time": "2022-02-18T06:46:35.456516",
     "status": "completed"
    },
    "tags": []
   },
   "source": [
    "# 1. Introduction\n",
    "Mean Encoding\n",
    "1. In this tutorial we are going to Mean encode \"Embarked\" column. Using four different encoding schemes.\n",
    "    * K-Fold Validation\n",
    "    * Leave one out \n",
    "    * Smoothing\n",
    "    * Expanding mean\n",
    "2. Then we are going to find corelation in between every encoding scheme and target."
   ]
  },
  {
   "cell_type": "markdown",
   "id": "0425c7ae",
   "metadata": {
    "papermill": {
     "duration": 0.011193,
     "end_time": "2022-02-18T06:46:35.490287",
     "exception": false,
     "start_time": "2022-02-18T06:46:35.479094",
     "status": "completed"
    },
    "tags": []
   },
   "source": []
  },
  {
   "cell_type": "code",
   "execution_count": 1,
   "id": "23c935f6",
   "metadata": {
    "execution": {
     "iopub.execute_input": "2022-02-18T06:46:35.519321Z",
     "iopub.status.busy": "2022-02-18T06:46:35.517520Z",
     "iopub.status.idle": "2022-02-18T06:46:36.527298Z",
     "shell.execute_reply": "2022-02-18T06:46:36.525891Z",
     "shell.execute_reply.started": "2022-02-18T06:40:44.905812Z"
    },
    "papermill": {
     "duration": 1.025643,
     "end_time": "2022-02-18T06:46:36.527489",
     "exception": false,
     "start_time": "2022-02-18T06:46:35.501846",
     "status": "completed"
    },
    "tags": []
   },
   "outputs": [],
   "source": [
    "# Importing libraries\n",
    "import pandas as pd\n",
    "import numpy as np\n",
    "from sklearn.model_selection import KFold\n",
    "\n",
    "# Reading Dataset\n",
    "Train_Data = pd.read_csv(\"../input/simple-dataset-for-easy-practice-for-beginners/BrandEDA.csv\")"
   ]
  },
  {
   "cell_type": "code",
   "execution_count": 2,
   "id": "8ed35f0b",
   "metadata": {
    "execution": {
     "iopub.execute_input": "2022-02-18T06:46:36.559972Z",
     "iopub.status.busy": "2022-02-18T06:46:36.559079Z",
     "iopub.status.idle": "2022-02-18T06:46:36.577388Z",
     "shell.execute_reply": "2022-02-18T06:46:36.577924Z",
     "shell.execute_reply.started": "2022-02-18T06:40:44.920399Z"
    },
    "papermill": {
     "duration": 0.038817,
     "end_time": "2022-02-18T06:46:36.578090",
     "exception": false,
     "start_time": "2022-02-18T06:46:36.539273",
     "status": "completed"
    },
    "tags": []
   },
   "outputs": [
    {
     "data": {
      "text/html": [
       "<div>\n",
       "<style scoped>\n",
       "    .dataframe tbody tr th:only-of-type {\n",
       "        vertical-align: middle;\n",
       "    }\n",
       "\n",
       "    .dataframe tbody tr th {\n",
       "        vertical-align: top;\n",
       "    }\n",
       "\n",
       "    .dataframe thead th {\n",
       "        text-align: right;\n",
       "    }\n",
       "</style>\n",
       "<table border=\"1\" class=\"dataframe\">\n",
       "  <thead>\n",
       "    <tr style=\"text-align: right;\">\n",
       "      <th></th>\n",
       "      <th>Brand</th>\n",
       "      <th>Item ID</th>\n",
       "      <th>Ram(Gb)</th>\n",
       "      <th>StoraGe(Gb)</th>\n",
       "      <th>Price(Rs)</th>\n",
       "      <th>Processor speed(GHz)</th>\n",
       "      <th>Touch</th>\n",
       "      <th>Color</th>\n",
       "      <th>Weight</th>\n",
       "      <th>DisplAy size(Inch)</th>\n",
       "    </tr>\n",
       "  </thead>\n",
       "  <tbody>\n",
       "    <tr>\n",
       "      <th>0</th>\n",
       "      <td>Apple</td>\n",
       "      <td>32</td>\n",
       "      <td>16.0</td>\n",
       "      <td>256.0</td>\n",
       "      <td>315000</td>\n",
       "      <td>2.2</td>\n",
       "      <td>No</td>\n",
       "      <td>Space grey</td>\n",
       "      <td>1.83</td>\n",
       "      <td>15.4</td>\n",
       "    </tr>\n",
       "    <tr>\n",
       "      <th>1</th>\n",
       "      <td>Apple</td>\n",
       "      <td>4</td>\n",
       "      <td>8.0</td>\n",
       "      <td>512.0</td>\n",
       "      <td>232000</td>\n",
       "      <td>3.2</td>\n",
       "      <td>No</td>\n",
       "      <td>Dark Black</td>\n",
       "      <td>1.29</td>\n",
       "      <td>13.3</td>\n",
       "    </tr>\n",
       "    <tr>\n",
       "      <th>2</th>\n",
       "      <td>Apple</td>\n",
       "      <td>32</td>\n",
       "      <td>16.0</td>\n",
       "      <td>1024.0</td>\n",
       "      <td>382000</td>\n",
       "      <td>2.3</td>\n",
       "      <td>No</td>\n",
       "      <td>Silver</td>\n",
       "      <td>2.00</td>\n",
       "      <td>16.0</td>\n",
       "    </tr>\n",
       "    <tr>\n",
       "      <th>3</th>\n",
       "      <td>Apple</td>\n",
       "      <td>4</td>\n",
       "      <td>8.0</td>\n",
       "      <td>NaN</td>\n",
       "      <td>195000</td>\n",
       "      <td>2.3</td>\n",
       "      <td>No</td>\n",
       "      <td>Space grey</td>\n",
       "      <td>1.37</td>\n",
       "      <td>13.3</td>\n",
       "    </tr>\n",
       "    <tr>\n",
       "      <th>4</th>\n",
       "      <td>Apple</td>\n",
       "      <td>4</td>\n",
       "      <td>4.0</td>\n",
       "      <td>128.0</td>\n",
       "      <td>92400</td>\n",
       "      <td>1.8</td>\n",
       "      <td>No</td>\n",
       "      <td>Silver</td>\n",
       "      <td>1.35</td>\n",
       "      <td>11.6</td>\n",
       "    </tr>\n",
       "  </tbody>\n",
       "</table>\n",
       "</div>"
      ],
      "text/plain": [
       "   Brand  Item ID  Ram(Gb)  StoraGe(Gb)  Price(Rs)  Processor speed(GHz)  \\\n",
       "0  Apple       32     16.0        256.0     315000                   2.2   \n",
       "1  Apple        4      8.0        512.0     232000                   3.2   \n",
       "2  Apple       32     16.0       1024.0     382000                   2.3   \n",
       "3  Apple        4      8.0          NaN     195000                   2.3   \n",
       "4  Apple        4      4.0        128.0      92400                   1.8   \n",
       "\n",
       "   Touch       Color   Weight  DisplAy size(Inch)  \n",
       "0      No  Space grey    1.83                15.4  \n",
       "1      No  Dark Black    1.29                13.3  \n",
       "2      No      Silver    2.00                16.0  \n",
       "3      No  Space grey    1.37                13.3  \n",
       "4      No      Silver    1.35                11.6  "
      ]
     },
     "execution_count": 2,
     "metadata": {},
     "output_type": "execute_result"
    }
   ],
   "source": [
    "# About Dataset\n",
    "\n",
    "#Train_Data.shape\n",
    "#Train_Data.info()\n",
    "Train_Data.dtypes\n",
    "#Train_Data.nunique()\n",
    "#Train_Data[\"Item ID\"].unique()\n",
    "\n",
    "Train_Data.head()\n"
   ]
  },
  {
   "cell_type": "code",
   "execution_count": 3,
   "id": "e39d8305",
   "metadata": {
    "execution": {
     "iopub.execute_input": "2022-02-18T06:46:36.605949Z",
     "iopub.status.busy": "2022-02-18T06:46:36.605017Z",
     "iopub.status.idle": "2022-02-18T06:46:36.608317Z",
     "shell.execute_reply": "2022-02-18T06:46:36.608881Z",
     "shell.execute_reply.started": "2022-02-18T06:40:44.945704Z"
    },
    "papermill": {
     "duration": 0.018711,
     "end_time": "2022-02-18T06:46:36.609037",
     "exception": false,
     "start_time": "2022-02-18T06:46:36.590326",
     "status": "completed"
    },
    "tags": []
   },
   "outputs": [],
   "source": [
    "#Drop multiple columns (Just to make dataset bit easier for demonstration)\n",
    "#Train_Data.drop(Train_Data.iloc[:, 14:26], axis=1, inplace=True)"
   ]
  },
  {
   "cell_type": "code",
   "execution_count": 4,
   "id": "6dd17e7e",
   "metadata": {
    "execution": {
     "iopub.execute_input": "2022-02-18T06:46:36.637241Z",
     "iopub.status.busy": "2022-02-18T06:46:36.636275Z",
     "iopub.status.idle": "2022-02-18T06:46:36.645665Z",
     "shell.execute_reply": "2022-02-18T06:46:36.646195Z",
     "shell.execute_reply.started": "2022-02-18T06:40:44.956956Z"
    },
    "papermill": {
     "duration": 0.024973,
     "end_time": "2022-02-18T06:46:36.646353",
     "exception": false,
     "start_time": "2022-02-18T06:46:36.621380",
     "status": "completed"
    },
    "tags": []
   },
   "outputs": [],
   "source": [
    "Train_Data.sort_values(['Item ID'],inplace=True)"
   ]
  },
  {
   "cell_type": "code",
   "execution_count": 5,
   "id": "7ffa1f08",
   "metadata": {
    "execution": {
     "iopub.execute_input": "2022-02-18T06:46:36.674692Z",
     "iopub.status.busy": "2022-02-18T06:46:36.673737Z",
     "iopub.status.idle": "2022-02-18T06:46:36.679034Z",
     "shell.execute_reply": "2022-02-18T06:46:36.679607Z",
     "shell.execute_reply.started": "2022-02-18T06:40:44.975102Z"
    },
    "papermill": {
     "duration": 0.021125,
     "end_time": "2022-02-18T06:46:36.679762",
     "exception": false,
     "start_time": "2022-02-18T06:46:36.658637",
     "status": "completed"
    },
    "tags": []
   },
   "outputs": [],
   "source": [
    "Train_Data[\"Brand\"].replace({\"Apple\":\"0\", \"Dell\":\"1\"}, inplace = True)"
   ]
  },
  {
   "cell_type": "code",
   "execution_count": 6,
   "id": "7da8fdd5",
   "metadata": {
    "execution": {
     "iopub.execute_input": "2022-02-18T06:46:36.707828Z",
     "iopub.status.busy": "2022-02-18T06:46:36.706915Z",
     "iopub.status.idle": "2022-02-18T06:46:36.711085Z",
     "shell.execute_reply": "2022-02-18T06:46:36.711650Z",
     "shell.execute_reply.started": "2022-02-18T06:40:44.989739Z"
    },
    "papermill": {
     "duration": 0.019817,
     "end_time": "2022-02-18T06:46:36.711808",
     "exception": false,
     "start_time": "2022-02-18T06:46:36.691991",
     "status": "completed"
    },
    "tags": []
   },
   "outputs": [],
   "source": [
    "Train_Data.head()\n",
    "IID_GMean = Train_Data['Item ID'].mean()"
   ]
  },
  {
   "cell_type": "markdown",
   "id": "004d33f1",
   "metadata": {
    "papermill": {
     "duration": 0.011949,
     "end_time": "2022-02-18T06:46:36.736039",
     "exception": false,
     "start_time": "2022-02-18T06:46:36.724090",
     "status": "completed"
    },
    "tags": []
   },
   "source": [
    "# Mean Encoding with K-Fold Validation\n",
    "***Steps***\n",
    "1. **Import K-Fold with K=5 and shuffle = False**\n",
    "2. **Split Train data in to Tr_d and Val_d**\n",
    "3. **Iterate through K folds (If K=x This iteration will repeat x times)**\n",
    "    * Train and Validation -(Assign)- train and validation index\n",
    "    * Find Target mean for Train Folds groupedby(Categorical feature under operation)\n",
    "    * New Feature in Validation Fold -(Assign)- Validation fold (Categorical feature under operation) .map(Target mean of Train folds)\n",
    "    * Dataset(Index val) -(Assign)- Validation fold\n",
    "4. **Fill null values with global mean in new feature of Dataset**"
   ]
  },
  {
   "cell_type": "code",
   "execution_count": 7,
   "id": "efdf28bc",
   "metadata": {
    "execution": {
     "iopub.execute_input": "2022-02-18T06:46:36.764064Z",
     "iopub.status.busy": "2022-02-18T06:46:36.763124Z",
     "iopub.status.idle": "2022-02-18T06:46:36.818464Z",
     "shell.execute_reply": "2022-02-18T06:46:36.817890Z",
     "shell.execute_reply.started": "2022-02-18T06:45:45.428237Z"
    },
    "papermill": {
     "duration": 0.070418,
     "end_time": "2022-02-18T06:46:36.818608",
     "exception": false,
     "start_time": "2022-02-18T06:46:36.748190",
     "status": "completed"
    },
    "tags": []
   },
   "outputs": [
    {
     "name": "stderr",
     "output_type": "stream",
     "text": [
      "/opt/conda/lib/python3.7/site-packages/ipykernel_launcher.py:10: SettingWithCopyWarning: \n",
      "A value is trying to be set on a copy of a slice from a DataFrame.\n",
      "Try using .loc[row_indexer,col_indexer] = value instead\n",
      "\n",
      "See the caveats in the documentation: https://pandas.pydata.org/pandas-docs/stable/user_guide/indexing.html#returning-a-view-versus-a-copy\n",
      "  # Remove the CWD from sys.path while we load stuff.\n"
     ]
    },
    {
     "data": {
      "text/html": [
       "<div>\n",
       "<style scoped>\n",
       "    .dataframe tbody tr th:only-of-type {\n",
       "        vertical-align: middle;\n",
       "    }\n",
       "\n",
       "    .dataframe tbody tr th {\n",
       "        vertical-align: top;\n",
       "    }\n",
       "\n",
       "    .dataframe thead th {\n",
       "        text-align: right;\n",
       "    }\n",
       "</style>\n",
       "<table border=\"1\" class=\"dataframe\">\n",
       "  <thead>\n",
       "    <tr style=\"text-align: right;\">\n",
       "      <th></th>\n",
       "      <th>Brand</th>\n",
       "      <th>Item ID</th>\n",
       "      <th>Ram(Gb)</th>\n",
       "      <th>StoraGe(Gb)</th>\n",
       "      <th>Price(Rs)</th>\n",
       "      <th>Processor speed(GHz)</th>\n",
       "      <th>Touch</th>\n",
       "      <th>Color</th>\n",
       "      <th>Weight</th>\n",
       "      <th>DisplAy size(Inch)</th>\n",
       "    </tr>\n",
       "  </thead>\n",
       "  <tbody>\n",
       "    <tr>\n",
       "      <th>9</th>\n",
       "      <td>0</td>\n",
       "      <td>4</td>\n",
       "      <td>16.0</td>\n",
       "      <td>NaN</td>\n",
       "      <td>382000</td>\n",
       "      <td>2.6</td>\n",
       "      <td>No</td>\n",
       "      <td>Silver</td>\n",
       "      <td>2.00</td>\n",
       "      <td>16.0</td>\n",
       "    </tr>\n",
       "    <tr>\n",
       "      <th>1</th>\n",
       "      <td>0</td>\n",
       "      <td>4</td>\n",
       "      <td>8.0</td>\n",
       "      <td>512.0</td>\n",
       "      <td>232000</td>\n",
       "      <td>3.2</td>\n",
       "      <td>No</td>\n",
       "      <td>Dark Black</td>\n",
       "      <td>1.29</td>\n",
       "      <td>13.3</td>\n",
       "    </tr>\n",
       "    <tr>\n",
       "      <th>3</th>\n",
       "      <td>0</td>\n",
       "      <td>4</td>\n",
       "      <td>8.0</td>\n",
       "      <td>NaN</td>\n",
       "      <td>195000</td>\n",
       "      <td>2.3</td>\n",
       "      <td>No</td>\n",
       "      <td>Space grey</td>\n",
       "      <td>1.37</td>\n",
       "      <td>13.3</td>\n",
       "    </tr>\n",
       "    <tr>\n",
       "      <th>4</th>\n",
       "      <td>0</td>\n",
       "      <td>4</td>\n",
       "      <td>4.0</td>\n",
       "      <td>128.0</td>\n",
       "      <td>92400</td>\n",
       "      <td>1.8</td>\n",
       "      <td>No</td>\n",
       "      <td>Silver</td>\n",
       "      <td>1.35</td>\n",
       "      <td>11.6</td>\n",
       "    </tr>\n",
       "    <tr>\n",
       "      <th>5</th>\n",
       "      <td>0</td>\n",
       "      <td>4</td>\n",
       "      <td>8.0</td>\n",
       "      <td>256.0</td>\n",
       "      <td>60000</td>\n",
       "      <td>2.6</td>\n",
       "      <td>No</td>\n",
       "      <td>Silver</td>\n",
       "      <td>1.00</td>\n",
       "      <td>13.3</td>\n",
       "    </tr>\n",
       "  </tbody>\n",
       "</table>\n",
       "</div>"
      ],
      "text/plain": [
       "  Brand  Item ID  Ram(Gb)  StoraGe(Gb)  Price(Rs)  Processor speed(GHz)  \\\n",
       "9     0        4     16.0          NaN     382000                   2.6   \n",
       "1     0        4      8.0        512.0     232000                   3.2   \n",
       "3     0        4      8.0          NaN     195000                   2.3   \n",
       "4     0        4      4.0        128.0      92400                   1.8   \n",
       "5     0        4      8.0        256.0      60000                   2.6   \n",
       "\n",
       "   Touch       Color   Weight  DisplAy size(Inch)  \n",
       "9      No      Silver    2.00                16.0  \n",
       "1      No  Dark Black    1.29                13.3  \n",
       "3      No  Space grey    1.37                13.3  \n",
       "4      No      Silver    1.35                11.6  \n",
       "5      No      Silver    1.00                13.3  "
      ]
     },
     "execution_count": 7,
     "metadata": {},
     "output_type": "execute_result"
    }
   ],
   "source": [
    "from sklearn.model_selection import KFold\n",
    "\n",
    "kf = KFold(n_splits=5, shuffle=False)\n",
    "\n",
    "for index_train, index_valid in kf.split(Train_Data):\n",
    "    X_tr, X_val = Train_Data.iloc[index_train], Train_Data.iloc[index_valid]\n",
    "    \n",
    "    # target coding of valid dataset depends on train dataset\n",
    "    X_tr_group = X_tr.groupby('Item ID')['Brand'] \n",
    "    X_val['item_target_enc'] = X_val['Item ID'].map(X_tr_group.mean())\n",
    "    \n",
    "    # copy target encoding back to all_data\n",
    "    Train_Data.iloc[index_valid] = X_val\n",
    "    \n",
    "\n",
    "#Train_Data['item_target_enc'].fillna(IID_GMean, inplace=True)\n",
    "Train_Data.head()"
   ]
  },
  {
   "cell_type": "raw",
   "id": "f9292c57",
   "metadata": {
    "papermill": {
     "duration": 0.013267,
     "end_time": "2022-02-18T06:46:36.845346",
     "exception": false,
     "start_time": "2022-02-18T06:46:36.832079",
     "status": "completed"
    },
    "tags": []
   },
   "source": []
  },
  {
   "cell_type": "code",
   "execution_count": null,
   "id": "425bb76f",
   "metadata": {
    "papermill": {
     "duration": 0.0127,
     "end_time": "2022-02-18T06:46:36.871128",
     "exception": false,
     "start_time": "2022-02-18T06:46:36.858428",
     "status": "completed"
    },
    "tags": []
   },
   "outputs": [],
   "source": []
  }
 ],
 "metadata": {
  "kernelspec": {
   "display_name": "Python 3",
   "language": "python",
   "name": "python3"
  },
  "language_info": {
   "codemirror_mode": {
    "name": "ipython",
    "version": 3
   },
   "file_extension": ".py",
   "mimetype": "text/x-python",
   "name": "python",
   "nbconvert_exporter": "python",
   "pygments_lexer": "ipython3",
   "version": "3.7.12"
  },
  "papermill": {
   "default_parameters": {},
   "duration": 11.075206,
   "end_time": "2022-02-18T06:46:37.593187",
   "environment_variables": {},
   "exception": null,
   "input_path": "__notebook__.ipynb",
   "output_path": "__notebook__.ipynb",
   "parameters": {},
   "start_time": "2022-02-18T06:46:26.517981",
   "version": "2.3.3"
  }
 },
 "nbformat": 4,
 "nbformat_minor": 5
}
