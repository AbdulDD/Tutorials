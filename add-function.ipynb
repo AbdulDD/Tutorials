{
 "cells": [
  {
   "cell_type": "code",
   "execution_count": 1,
   "id": "97a2c812",
   "metadata": {
    "_cell_guid": "b1076dfc-b9ad-4769-8c92-a6c4dae69d19",
    "_uuid": "8f2839f25d086af736a60e9eeb907d3b93b6e0e5",
    "execution": {
     "iopub.execute_input": "2022-02-23T05:11:51.914500Z",
     "iopub.status.busy": "2022-02-23T05:11:51.913452Z",
     "iopub.status.idle": "2022-02-23T05:11:51.922241Z",
     "shell.execute_reply": "2022-02-23T05:11:51.922785Z",
     "shell.execute_reply.started": "2022-02-23T05:07:58.70644Z"
    },
    "papermill": {
     "duration": 0.017239,
     "end_time": "2022-02-23T05:11:51.923067",
     "exception": false,
     "start_time": "2022-02-23T05:11:51.905828",
     "status": "completed"
    },
    "tags": []
   },
   "outputs": [],
   "source": [
    "def ad(a,b):\n",
    "    Y = a+b\n",
    "    return Y\n",
    "\n",
    "def sq(a):\n",
    "    Y = a*a\n",
    "    return Y\n"
   ]
  },
  {
   "cell_type": "code",
   "execution_count": null,
   "id": "864b604f",
   "metadata": {
    "papermill": {
     "duration": 0.002439,
     "end_time": "2022-02-23T05:11:51.928955",
     "exception": false,
     "start_time": "2022-02-23T05:11:51.926516",
     "status": "completed"
    },
    "tags": []
   },
   "outputs": [],
   "source": []
  }
 ],
 "metadata": {
  "kernelspec": {
   "display_name": "Python 3",
   "language": "python",
   "name": "python3"
  },
  "language_info": {
   "codemirror_mode": {
    "name": "ipython",
    "version": 3
   },
   "file_extension": ".py",
   "mimetype": "text/x-python",
   "name": "python",
   "nbconvert_exporter": "python",
   "pygments_lexer": "ipython3",
   "version": "3.7.12"
  },
  "papermill": {
   "default_parameters": {},
   "duration": 9.240818,
   "end_time": "2022-02-23T05:11:52.542770",
   "environment_variables": {},
   "exception": null,
   "input_path": "__notebook__.ipynb",
   "output_path": "__notebook__.ipynb",
   "parameters": {},
   "start_time": "2022-02-23T05:11:43.301952",
   "version": "2.3.3"
  }
 },
 "nbformat": 4,
 "nbformat_minor": 5
}
